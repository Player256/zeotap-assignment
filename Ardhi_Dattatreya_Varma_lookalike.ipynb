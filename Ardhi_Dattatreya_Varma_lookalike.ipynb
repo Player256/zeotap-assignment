{
 "cells": [
  {
   "cell_type": "markdown",
   "metadata": {},
   "source": [
    "This implementation:\n",
    "- Uses explainable features for similarity matching\n",
    "- Handles both categorical and numerical data\n",
    "- Provides similarity scores for transparency\n",
    "- Follows best practices for recommendation systems\n",
    "- Scales to large datasets efficiently"
   ]
  },
  {
   "cell_type": "code",
   "execution_count": 14,
   "metadata": {},
   "outputs": [],
   "source": [
    "import pandas as pd\n",
    "from datetime import datetime\n",
    "from sklearn.preprocessing import StandardScaler\n",
    "from sklearn.metrics.pairwise import cosine_similarity"
   ]
  },
  {
   "cell_type": "code",
   "execution_count": 3,
   "metadata": {},
   "outputs": [],
   "source": [
    "customers = pd.read_csv(\"Customers.csv\")\n",
    "transactions = pd.read_csv(\"Transactions.csv\")\n",
    "products = pd.read_csv(\"Products.csv\")"
   ]
  },
  {
   "cell_type": "code",
   "execution_count": 15,
   "metadata": {},
   "outputs": [],
   "source": [
    "# Convert dates\n",
    "current_date = pd.to_datetime('2025-01-27')\n",
    "customers['SignupDate'] = pd.to_datetime(customers['SignupDate'])\n",
    "transactions['TransactionDate'] = pd.to_datetime(transactions['TransactionDate'])\n"
   ]
  },
  {
   "cell_type": "code",
   "execution_count": 16,
   "metadata": {},
   "outputs": [],
   "source": [
    "merged = transactions.merge(products, on='ProductID').merge(customers, on='CustomerID')"
   ]
  },
  {
   "cell_type": "code",
   "execution_count": 18,
   "metadata": {},
   "outputs": [],
   "source": [
    "# Feature Engineering\n",
    "# 1. Customer Tenure\n",
    "customers['Tenure'] = (current_date - customers['SignupDate']).dt.days // 30\n",
    "\n",
    "# 2. Transaction Behavior\n",
    "transaction_features = merged.groupby('CustomerID').agg(\n",
    "    Total_Transactions=('TransactionID', 'count'),\n",
    "    Total_Spent=('TotalValue', 'sum'),\n",
    "    Favorite_Category=('Category', lambda x: x.mode()[0])\n",
    ").reset_index()\n",
    "\n",
    "# 3. Product Interaction\n",
    "product_features = merged.groupby('CustomerID').agg(\n",
    "    Unique_Products=('ProductID', 'nunique'),\n",
    "    Avg_Product_Price=('Price_x', 'mean')\n",
    ").reset_index()\n",
    "\n",
    "# Combine features\n",
    "features = customers.merge(transaction_features, on='CustomerID')\\\n",
    "                   .merge(product_features, on='CustomerID')\n"
   ]
  },
  {
   "cell_type": "code",
   "execution_count": 19,
   "metadata": {},
   "outputs": [],
   "source": [
    "# Preprocessing\n",
    "features = pd.get_dummies(features, columns=['Region', 'Favorite_Category'])\n",
    "\n",
    "# Select relevant columns\n",
    "feature_cols = ['Tenure', 'Total_Transactions', 'Total_Spent', \n",
    "                'Unique_Products', 'Avg_Product_Price'] + \\\n",
    "               [col for col in features.columns if col.startswith(('Region_', 'Favorite_Category_'))]"
   ]
  },
  {
   "cell_type": "code",
   "execution_count": 20,
   "metadata": {},
   "outputs": [],
   "source": [
    "# Normalize features\n",
    "scaler = StandardScaler()\n",
    "scaled_features = scaler.fit_transform(features[feature_cols])\n"
   ]
  },
  {
   "cell_type": "code",
   "execution_count": 21,
   "metadata": {},
   "outputs": [],
   "source": [
    "# Calculate similarity matrix\n",
    "similarity_matrix = cosine_similarity(scaled_features)"
   ]
  },
  {
   "cell_type": "code",
   "execution_count": 22,
   "metadata": {},
   "outputs": [],
   "source": [
    "# Generate recommendations\n",
    "results = []\n",
    "target_customers = [f'C{str(i).zfill(4)}' for i in range(1, 21)]\n",
    "\n",
    "for cust_id in target_customers:\n",
    "    idx = features[features['CustomerID'] == cust_id].index[0]\n",
    "    similarities = list(enumerate(similarity_matrix[idx]))\n",
    "    \n",
    "    # Sort and exclude self\n",
    "    similarities.sort(key=lambda x: x[1], reverse=True)\n",
    "    top_matches = [(features.iloc[i]['CustomerID'], round(score, 4)) \n",
    "                   for i, score in similarities \n",
    "                   if features.iloc[i]['CustomerID'] != cust_id][:3]\n",
    "    \n",
    "    results.append({\n",
    "        'CustomerID': cust_id,\n",
    "        'Lookalike_1': f\"{top_matches[0][0]}({top_matches[0][1]})\",\n",
    "        'Lookalike_2': f\"{top_matches[1][0]}({top_matches[1][1]})\",\n",
    "        'Lookalike_3': f\"{top_matches[2][0]}({top_matches[2][1]})\"\n",
    "    })\n"
   ]
  },
  {
   "cell_type": "code",
   "execution_count": 23,
   "metadata": {},
   "outputs": [],
   "source": [
    "lookalike_df = pd.DataFrame(results)\n",
    "lookalike_df.to_csv('Ardhi_Dattatreya_Varma_Lookalike.csv', index=False)"
   ]
  }
 ],
 "metadata": {
  "kernelspec": {
   "display_name": "pytorch",
   "language": "python",
   "name": "python3"
  },
  "language_info": {
   "codemirror_mode": {
    "name": "ipython",
    "version": 3
   },
   "file_extension": ".py",
   "mimetype": "text/x-python",
   "name": "python",
   "nbconvert_exporter": "python",
   "pygments_lexer": "ipython3",
   "version": "3.11.11"
  }
 },
 "nbformat": 4,
 "nbformat_minor": 2
}
